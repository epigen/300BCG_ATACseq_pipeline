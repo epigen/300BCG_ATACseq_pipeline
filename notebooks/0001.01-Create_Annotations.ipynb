{
 "cells": [
  {
   "cell_type": "code",
   "execution_count": null,
   "metadata": {},
   "outputs": [],
   "source": [
    "import os\n",
    "import pandas as pd\n",
    "import numpy as np\n",
    "import datetime"
   ]
  },
  {
   "cell_type": "code",
   "execution_count": null,
   "metadata": {},
   "outputs": [],
   "source": [
    "out_folder=os.path.join(\"..\",\"data\")"
   ]
  },
  {
   "cell_type": "code",
   "execution_count": null,
   "metadata": {},
   "outputs": [],
   "source": [
    "results_dir=os.path.join(out_folder,\"pipeline_out\",\"results\")\n",
    "metadata_file= os.path.join(out_folder,\"complete_metadata.csv\")"
   ]
  },
  {
   "cell_type": "code",
   "execution_count": null,
   "metadata": {},
   "outputs": [],
   "source": [
    "lab_annotations_file = os.path.join(\"..\",\"meta\",\"lab_annotations.csv\")\n",
    "lab_annotations=pd.read_csv(lab_annotations_file)\n",
    "lab_annotations['ORIGINAL_BIOSAMPLE']=lab_annotations['DONOR']+'_'+lab_annotations['VISIT']+'_'+lab_annotations['TISSUE']+'_ATAC_R1'\n",
    "lab_annotations.set_index('ORIGINAL_BIOSAMPLE',inplace=True)\n",
    "lab_annotations.columns=lab_annotations.columns.map(lambda x: \"LAB:{}\".format(x))\n"
   ]
  },
  {
   "cell_type": "code",
   "execution_count": null,
   "metadata": {},
   "outputs": [],
   "source": [
    "metrics_file=os.path.join(\"..\",\"meta\",\"demux_metrics.csv\")\n",
    "demux_metrics=pd.read_csv(metrics_file)\n",
    "demux_metrics.columns=demux_metrics.columns.map(lambda x: \"DEMUX:{}\".format(x))\n",
    "demux_metrics['DEMUX:LANE_ID']=demux_metrics['DEMUX:RUN']+\"_\"+demux_metrics['DEMUX:FLOWCELL']+\"_\"+demux_metrics['DEMUX:LANE'].astype(str)\n",
    "demux_metrics.drop(['DEMUX:LANE'],axis=1,inplace=True)"
   ]
  },
  {
   "cell_type": "code",
   "execution_count": null,
   "metadata": {},
   "outputs": [],
   "source": [
    "demux_metrics=demux_metrics.join(\n",
    "    lab_annotations[['LAB:CQ','LAB:BATCH']],\n",
    "    on='DEMUX:BIOSAMPLE',\n",
    "    how='outer'\n",
    ")"
   ]
  },
  {
   "cell_type": "code",
   "execution_count": null,
   "metadata": {},
   "outputs": [],
   "source": [
    "metadata=demux_metrics.set_index(['DEMUX:DEMUX_NAME','DEMUX:LANE_ID'],drop=False)"
   ]
  },
  {
   "cell_type": "code",
   "execution_count": null,
   "metadata": {},
   "outputs": [],
   "source": [
    "metadata['SAMPLE:DONOR']=metadata['DEMUX:BIOSAMPLE'].apply(lambda x: x.split('_')[0])\n",
    "metadata['SAMPLE:VISIT']=metadata['DEMUX:BIOSAMPLE'].apply(lambda x: x.split('_')[1])\n",
    "metadata['SAMPLE:TISSUE']=metadata['DEMUX:BIOSAMPLE'].apply(lambda x: x.split('_')[2])"
   ]
  },
  {
   "cell_type": "code",
   "execution_count": null,
   "metadata": {},
   "outputs": [],
   "source": [
    "join_fun=lambda x: \";\".join(x.astype(str)) if (len(x.unique())>1) else x.unique()\n",
    "aggr_fun=dict.fromkeys(metadata,join_fun)\n",
    "aggr_fun['DEMUX:PF_READS']='sum'"
   ]
  },
  {
   "cell_type": "code",
   "execution_count": null,
   "metadata": {},
   "outputs": [],
   "source": [
    "metadata= metadata.groupby('DEMUX:BIOSAMPLE').agg(aggr_fun)"
   ]
  },
  {
   "cell_type": "code",
   "execution_count": null,
   "metadata": {},
   "outputs": [],
   "source": [
    "metadata.columns"
   ]
  },
  {
   "cell_type": "code",
   "execution_count": null,
   "metadata": {},
   "outputs": [],
   "source": [
    "pipeline_data_file=os.path.join(\"..\",\"data\",\"pipeline_out\",\"pipeline_stats_summary.tsv\")\n",
    "pipeline_data=pd.read_csv(pipeline_data_file,sep='\\t',index_col=0).drop(['organism','toggle','Time','Success'],axis=1)\n",
    "pipeline_data.columns = pipeline_data.columns.map(lambda x: \"RUN:{}\".format(x.upper()))"
   ]
  },
  {
   "cell_type": "code",
   "execution_count": null,
   "metadata": {},
   "outputs": [],
   "source": [
    "metadata=metadata.join(pipeline_data)"
   ]
  },
  {
   "cell_type": "code",
   "execution_count": null,
   "metadata": {},
   "outputs": [],
   "source": [
    "metadata.columns"
   ]
  },
  {
   "cell_type": "code",
   "execution_count": null,
   "metadata": {},
   "outputs": [],
   "source": [
    "promoters=pd.read_csv(\n",
    "    os.path.join(\"..\",\"references\",\"homo_sapiens.GRCh38.Regulatory_Build.regulatory_features.20190329.parsed.csv\"),\n",
    "    dtype={'chrom':str},\n",
    "    index_col='ID'\n",
    ")\n",
    "promoters=list(promoters.loc[promoters['type']=='promoter'].index)"
   ]
  },
  {
   "cell_type": "code",
   "execution_count": null,
   "metadata": {},
   "outputs": [],
   "source": [
    "def get_promoter_frips(sample):\n",
    "    reg_reads=pd.read_csv(os.path.join(results_dir,sample,\"{}_oracle.quantification.bed\".format(sample)),\n",
    "                          sep='\\t',\n",
    "                          names=['CHR','START','END','ID','NA','NA2',sample,'NA3','NA4','NA5'],\n",
    "                          usecols=['ID',sample],\n",
    "                          index_col='ID')\n",
    "    return float(\n",
    "        reg_reads.loc[promoters].sum()\n",
    "    )/float(\n",
    "        metadata.loc[sample,'RUN:FILTERED_MAPPED_READS']\n",
    "    )"
   ]
  },
  {
   "cell_type": "code",
   "execution_count": null,
   "metadata": {},
   "outputs": [],
   "source": [
    "import multiprocessing\n",
    "a_pool = multiprocessing.Pool(8)"
   ]
  },
  {
   "cell_type": "code",
   "execution_count": null,
   "metadata": {},
   "outputs": [],
   "source": [
    "promoter_frips=a_pool.map(get_promoter_frips, list(metadata.index))"
   ]
  },
  {
   "cell_type": "code",
   "execution_count": null,
   "metadata": {},
   "outputs": [],
   "source": [
    "metadata['QC:PROMOTER_FRIP']=promoter_frips"
   ]
  },
  {
   "cell_type": "code",
   "execution_count": null,
   "metadata": {},
   "outputs": [],
   "source": [
    "metadata.to_csv(metadata_file,index=False)"
   ]
  },
  {
   "cell_type": "code",
   "execution_count": null,
   "metadata": {},
   "outputs": [],
   "source": []
  }
 ],
 "metadata": {
  "kernelspec": {
   "display_name": "BCG (postprocessing)",
   "language": "python",
   "name": "bcg_notebooks"
  },
  "language_info": {
   "codemirror_mode": {
    "name": "ipython",
    "version": 3
   },
   "file_extension": ".py",
   "mimetype": "text/x-python",
   "name": "python",
   "nbconvert_exporter": "python",
   "pygments_lexer": "ipython3",
   "version": "3.9.7"
  }
 },
 "nbformat": 4,
 "nbformat_minor": 4
}
