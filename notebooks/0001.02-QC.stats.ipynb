{
 "cells": [
  {
   "cell_type": "code",
   "execution_count": null,
   "metadata": {},
   "outputs": [],
   "source": [
    "import os\n",
    "import pandas as pd\n",
    "import numpy as np \n",
    "\n",
    "from sklearn import preprocessing\n",
    "from sklearn.mixture import GaussianMixture\n",
    "from scipy.stats import norm\n",
    "\n",
    "import seaborn as sns\n",
    "import matplotlib.pyplot as plt\n",
    "from matplotlib.colors import LogNorm, Normalize,LinearSegmentedColormap, ListedColormap\n",
    "from matplotlib.patches import Patch\n",
    "import matplotlib.cm as cm\n",
    "\n",
    "import math\n",
    "import re\n",
    "from multiprocessing import Pool\n",
    "\n",
    "from IPython.display import display"
   ]
  },
  {
   "cell_type": "code",
   "execution_count": null,
   "metadata": {},
   "outputs": [],
   "source": [
    "data_dir=os.path.join(\"..\",\"data\")\n",
    "analysis_dir=os.path.join(data_dir,'qc_plots')\n",
    "if (not os.path.exists(analysis_dir)):\n",
    "    os.makedirs(analysis_dir)\n",
    "results_dir=os.path.join(data_dir,\"pipeline_run\",\"results\")\n",
    "metadata_file= os.path.join(data_dir,\"complete_metadata.csv\")\n",
    "pass_qc_field='QC:PASS'"
   ]
  },
  {
   "cell_type": "code",
   "execution_count": null,
   "metadata": {},
   "outputs": [],
   "source": [
    "metadata=pd.read_csv(metadata_file,index_col='DEMUX:BIOSAMPLE')\n",
    "if 'QC:QUALITY' in metadata.columns:\n",
    "    metadata = metadata.drop(quality_field,axis=1)"
   ]
  },
  {
   "cell_type": "code",
   "execution_count": null,
   "metadata": {},
   "outputs": [],
   "source": [
    "metadata.columns"
   ]
  },
  {
   "cell_type": "markdown",
   "metadata": {},
   "source": [
    "## QC"
   ]
  },
  {
   "cell_type": "code",
   "execution_count": null,
   "metadata": {},
   "outputs": [],
   "source": [
    "if pass_qc_field in metadata.columns:\n",
    "    metadata = metadata.drop(pass_qc_field,axis=1)"
   ]
  },
  {
   "cell_type": "code",
   "execution_count": null,
   "metadata": {},
   "outputs": [],
   "source": [
    "thresholds=dict()\n",
    "qc_vars = ['RUN:FRIP','RUN:ORACLE_FRIP','QC:PROMOTER_FRIP','RUN:TSS_ENRICHMENT','RUN:FILTERED_PEAKS']\n",
    "tot_reads_columns='RUN:FASTQC_TOTAL_PASS_FILTER_READS'\n",
    "cell_type_field='SAMPLE:TISSUE'\n",
    "\n",
    "# thresholds[tot_reads_columns]=1E5"
   ]
  },
  {
   "cell_type": "code",
   "execution_count": null,
   "metadata": {},
   "outputs": [],
   "source": [
    "thresholds['RUN:TSS_ENRICHMENT']=4.5\n",
    "thresholds['RUN:FILTERED_PEAKS']=5000"
   ]
  },
  {
   "cell_type": "code",
   "execution_count": null,
   "metadata": {},
   "outputs": [],
   "source": [
    "metadata[pass_qc_field]=True\n",
    "for var in thresholds.keys():\n",
    "    metadata.loc[metadata[var]<thresholds[var],pass_qc_field]=False"
   ]
  },
  {
   "cell_type": "code",
   "execution_count": null,
   "metadata": {},
   "outputs": [],
   "source": [
    "with pd.option_context('display.max_rows', None, 'display.max_columns', None):\n",
    "    display(metadata[~metadata[pass_qc_field]])"
   ]
  },
  {
   "cell_type": "code",
   "execution_count": null,
   "metadata": {},
   "outputs": [],
   "source": [
    "metadata.loc[metadata['SAMPLE:TISSUE']=='neutrophil',pass_qc_field]=False"
   ]
  },
  {
   "cell_type": "code",
   "execution_count": null,
   "metadata": {},
   "outputs": [],
   "source": [
    "x='RUN:FILTERED_PEAKS'\n",
    "hue=cell_type_field\n",
    "\n",
    "n_rows = 1\n",
    "n_cols = len(qc_vars)-1\n",
    "\n",
    "fig, ax = plt.subplots(n_rows,n_cols,figsize=(n_cols*7,n_rows*10))\n",
    "for i, y in enumerate(qc_vars):\n",
    "    if (y!=x):\n",
    "        current_ax = sns.scatterplot(\n",
    "            x, \n",
    "            y, \n",
    "            hue=hue,\n",
    "            data=metadata[metadata[x]!=0],\n",
    "            ax=ax[i],\n",
    "            alpha=0.75,\n",
    "            style=pass_qc_field,\n",
    "            markers={True:'o',False:'X'}\n",
    "        )\n",
    "\n",
    "        if (x==tot_reads_columns):\n",
    "            current_ax.set(xscale='log')\n",
    "        if (y==tot_reads_columns):\n",
    "            current_ax.set(yscale='log')\n",
    "\n",
    "        if x in thresholds.keys():\n",
    "            _ = current_ax.axvline(thresholds[x],color='k',linestyle='--')\n",
    "\n",
    "        if y in thresholds.keys():\n",
    "            _ = current_ax.axhline(thresholds[y],color='k',linestyle='--')    \n",
    "\n",
    "fig.savefig(os.path.join(analysis_dir,\"QC_plots.svg\"))\n",
    "        "
   ]
  },
  {
   "cell_type": "code",
   "execution_count": null,
   "metadata": {},
   "outputs": [],
   "source": [
    "all_vars = [tot_reads_columns, 'RUN:UNIQUE_ALIGNED_PERC']\n",
    "all_vars.extend(qc_vars)"
   ]
  },
  {
   "cell_type": "code",
   "execution_count": null,
   "metadata": {},
   "outputs": [],
   "source": [
    "cell_types = ['PBMC','cd8t','monocyte','nkcell']\n",
    "\n",
    "fig, ax = plt.subplots(len(cell_types),len(all_vars),figsize=(len(cell_types)*7.5,len(all_vars)*3.5),sharey='col')\n",
    "for i, variable in enumerate(all_vars):\n",
    "    for j, cell_type in enumerate(cell_types):\n",
    "        to_plot=metadata[metadata[cell_type_field]==cell_type]\n",
    "        to_plot=to_plot[to_plot[pass_qc_field]]\n",
    "        \n",
    "        axes = sns.violinplot(\n",
    "            x='SAMPLE:VISIT',\n",
    "            y=variable,\n",
    "            data=to_plot,\n",
    "            cut = 0,\n",
    "            ax=ax[j][i])\n",
    "        \n",
    "        if (i==0):\n",
    "            axes.set_ylabel(cell_type)\n",
    "        else:\n",
    "            axes.set_ylabel('')\n",
    "        if (j==0):\n",
    "            axes.set_title(variable)\n",
    "        \n",
    "        if variable in thresholds.keys():\n",
    "            _ = axes.axhline(thresholds[variable],color='k',linestyle='--') \n",
    "\n",
    "fig.savefig(os.path.join(analysis_dir,\"QC_distributions.svg\"))\n"
   ]
  },
  {
   "cell_type": "code",
   "execution_count": null,
   "metadata": {},
   "outputs": [],
   "source": [
    "metadata.groupby([cell_type_field,'SAMPLE:VISIT',pass_qc_field]).size()"
   ]
  },
  {
   "cell_type": "code",
   "execution_count": null,
   "metadata": {},
   "outputs": [],
   "source": [
    "fail_qc = metadata[~metadata[pass_qc_field] & (metadata[cell_type_field]!='neutrophil')][all_vars]"
   ]
  },
  {
   "cell_type": "code",
   "execution_count": null,
   "metadata": {},
   "outputs": [],
   "source": [
    "fail_qc"
   ]
  },
  {
   "cell_type": "code",
   "execution_count": null,
   "metadata": {},
   "outputs": [],
   "source": [
    "metadata[metadata['QC:PASS']]"
   ]
  },
  {
   "cell_type": "code",
   "execution_count": null,
   "metadata": {},
   "outputs": [],
   "source": [
    "print(thresholds)"
   ]
  },
  {
   "cell_type": "code",
   "execution_count": null,
   "metadata": {},
   "outputs": [],
   "source": [
    "metadata.to_csv(metadata_file)"
   ]
  },
  {
   "cell_type": "code",
   "execution_count": null,
   "metadata": {},
   "outputs": [],
   "source": []
  }
 ],
 "metadata": {
  "kernelspec": {
   "display_name": "BCG (postprocessing)",
   "language": "python",
   "name": "bcg_notebooks"
  },
  "language_info": {
   "codemirror_mode": {
    "name": "ipython",
    "version": 3
   },
   "file_extension": ".py",
   "mimetype": "text/x-python",
   "name": "python",
   "nbconvert_exporter": "python",
   "pygments_lexer": "ipython3",
   "version": "3.9.7"
  }
 },
 "nbformat": 4,
 "nbformat_minor": 4
}
