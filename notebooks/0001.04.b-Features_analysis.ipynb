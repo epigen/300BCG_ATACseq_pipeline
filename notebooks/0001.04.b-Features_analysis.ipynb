{
 "cells": [
  {
   "cell_type": "code",
   "execution_count": null,
   "metadata": {},
   "outputs": [],
   "source": [
    "import sys\n",
    "import os\n",
    "import pandas as pd\n",
    "import numpy as np"
   ]
  },
  {
   "cell_type": "code",
   "execution_count": null,
   "metadata": {},
   "outputs": [],
   "source": [
    "gencode_config_template=os.path.join(\"gencode_config_TEMPLATE.txt\")\n",
    "reg_config_template=os.path.join(\"regulatory_config_TEMPLATE.txt\")\n",
    "submit_template_file=os.path.join(\"TEMPLATE_characterize.txt\")\n",
    "\n",
    "suffix='ALL_V4'\n",
    "out_folder=os.path.join(\"..\",\"data\",\"quantification\")\n",
    "characterization_folder=os.path.join(out_folder,'characterization_{}'.format(suffix))"
   ]
  },
  {
   "cell_type": "code",
   "execution_count": null,
   "metadata": {},
   "outputs": [],
   "source": [
    "gencode_characterization_template=\"gencode_characterize_{}_finalhits.txt\"\n",
    "reg_characterization_template=\"reg_characterize_{}_finalhits.txt\""
   ]
  },
  {
   "cell_type": "code",
   "execution_count": null,
   "metadata": {},
   "outputs": [],
   "source": [
    "def get_characterization(batch_id):\n",
    "    gencode_characterization_file=os.path.join(characterization_folder,gencode_characterization_template.format(batch_id))\n",
    "    gencode_characterization=pd.read_csv(gencode_characterization_file,sep='\\t')\n",
    "    gencode_characterization = gencode_characterization.set_index(\"peak_id\")\n",
    "    gencode_characterization.loc[gencode_characterization['feature']=='transcript','feat_type']='transcript:'+gencode_characterization.loc[gencode_characterization['feature']=='transcript','transcript_type']\n",
    "    gencode_characterization.loc[gencode_characterization['feature']=='gene','feat_type']='gene:'+gencode_characterization.loc[gencode_characterization['feature']=='gene','gene_type']\n",
    "    gencode_characterization['length']=gencode_characterization['peak_end']-gencode_characterization['peak_start']\n",
    "    gencode_characterization=gencode_characterization[['peak_chr','peak_start','peak_end','length','feat_anchor','distance','relative_location','feat_type','gene_id','gene_name','name']]\n",
    "    gencode_characterization.columns=['chr','start','end','length','feat_anchor','distance','location','feat_type','gene_id','gene_name','characterization']\n",
    "    gencode_characterization.loc[gencode_characterization['characterization'].isna(),'characterization']='NONE'\n",
    "\n",
    "    reg_characterization_file=os.path.join(characterization_folder,reg_characterization_template.format(batch_id))\n",
    "    reg_characterization=pd.read_csv(reg_characterization_file,sep='\\t')\n",
    "    reg_characterization = reg_characterization.set_index('peak_id')[['feature','ID']]\n",
    "    reg_characterization.columns=['reg_feature','reg_feature_id']\n",
    "    reg_characterization.loc[reg_characterization['reg_feature'].isna(),'reg_feature']='reg_NONE'\n",
    "    \n",
    "    return gencode_characterization.join(reg_characterization)\n"
   ]
  },
  {
   "cell_type": "code",
   "execution_count": null,
   "metadata": {},
   "outputs": [],
   "source": [
    "base_character = get_characterization(\"base\")\n",
    "base_character.to_csv(os.path.join(out_folder,\"peaks_characterization_{}.csv\".format(suffix)),index_label='peak_id')"
   ]
  },
  {
   "cell_type": "code",
   "execution_count": null,
   "metadata": {},
   "outputs": [],
   "source": [
    "results=list()\n",
    "for i in range(0,100):\n",
    "    if ((i % 10)==0):\n",
    "        print(i)\n",
    "    character= get_characterization(str(i))\n",
    "    results.append(character.groupby('characterization').size().append(character.groupby('reg_feature').size()))"
   ]
  },
  {
   "cell_type": "code",
   "execution_count": null,
   "metadata": {},
   "outputs": [],
   "source": [
    "from scipy.stats import ttest_1samp"
   ]
  },
  {
   "cell_type": "code",
   "execution_count": null,
   "metadata": {},
   "outputs": [],
   "source": [
    "randomized_counts = pd.concat(results,axis=1).fillna(0)"
   ]
  },
  {
   "cell_type": "code",
   "execution_count": null,
   "metadata": {},
   "outputs": [],
   "source": [
    "base_counts=base_character.groupby('characterization').size().append(base_character.groupby('reg_feature').size())"
   ]
  },
  {
   "cell_type": "code",
   "execution_count": null,
   "metadata": {},
   "outputs": [],
   "source": [
    "tot_peaks=base_counts.sum()/2\n",
    "base_counts = base_counts.reindex(randomized_counts.index).fillna(0)"
   ]
  },
  {
   "cell_type": "code",
   "execution_count": null,
   "metadata": {},
   "outputs": [],
   "source": [
    "pvalues = ttest_1samp(randomized_counts.T,base_counts).pvalue\n",
    "random_mean = randomized_counts.mean(axis=1)\n",
    "lfc = np.log2(base_counts/random_mean)\n",
    "random_mean = random_mean/tot_peaks*100.0\n",
    "base_counts=base_counts/tot_peaks*100.0"
   ]
  },
  {
   "cell_type": "code",
   "execution_count": null,
   "metadata": {},
   "outputs": [],
   "source": [
    "result = base_counts.to_frame('peaks(%)').join(random_mean.to_frame('random(%)')).join(lfc.to_frame('LFC'))\n",
    "result['p']=pvalues"
   ]
  },
  {
   "cell_type": "code",
   "execution_count": null,
   "metadata": {},
   "outputs": [],
   "source": [
    "result"
   ]
  },
  {
   "cell_type": "code",
   "execution_count": null,
   "metadata": {},
   "outputs": [],
   "source": [
    "result.to_csv(os.path.join(out_folder,\"QC_characterization_{}_enrichment.csv\".format(suffix)),index_label='element_type')"
   ]
  },
  {
   "cell_type": "markdown",
   "metadata": {},
   "source": [
    "### Inspect feature length distribution"
   ]
  },
  {
   "cell_type": "code",
   "execution_count": null,
   "metadata": {},
   "outputs": [],
   "source": [
    "from matplotlib import pyplot as plt\n",
    "import seaborn as sns"
   ]
  },
  {
   "cell_type": "code",
   "execution_count": null,
   "metadata": {},
   "outputs": [],
   "source": [
    "length=base_character['length']\n",
    "q=0.99\n",
    "quantile = np.quantile(length,q=[q])[0]\n",
    "median = np.quantile(length,q=[0.5])[0]"
   ]
  },
  {
   "cell_type": "code",
   "execution_count": null,
   "metadata": {},
   "outputs": [],
   "source": [
    "fig,ax = plt.subplots(figsize=(6,4))\n",
    "ax = sns.kdeplot(length,cumulative=True,legend=False)\n",
    "_=ax.set_xlim(450,3000)\n",
    "_=ax.axhline(0.99,color='#949596',linestyle='--')\n",
    "_=ax.axvline(quantile,color='#949596',linestyle='--')\n",
    "_=ax.axhline(0.5,color='#949596',linestyle='--')\n",
    "_=ax.axvline(median,color='#949596',linestyle='--')\n",
    "_=ax.set_xlabel('Element length (bp)')\n",
    "_=ax.set_ylabel('Cumulative Fraction')\n",
    "_=ax.text(quantile+10,1,\"{:.1f}% - {}\".format(q*100,quantile))\n",
    "_=ax.text(median+10,0.45,\"{:.1f}% - {}\".format(50,median))\n",
    "fig.savefig(os.path.join(out_folder,'QC_peak_{}_lenghts.svg'.format(suffix)))"
   ]
  }
 ],
 "metadata": {
  "kernelspec": {
   "display_name": "BCG (postprocessing)",
   "language": "python",
   "name": "bcg_notebooks"
  },
  "language_info": {
   "codemirror_mode": {
    "name": "ipython",
    "version": 3
   },
   "file_extension": ".py",
   "mimetype": "text/x-python",
   "name": "python",
   "nbconvert_exporter": "python",
   "pygments_lexer": "ipython3",
   "version": "3.9.7"
  }
 },
 "nbformat": 4,
 "nbformat_minor": 4
}
